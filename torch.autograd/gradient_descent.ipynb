{
 "cells": [
  {
   "cell_type": "code",
   "execution_count": 1,
   "metadata": {},
   "outputs": [],
   "source": [
    "import torch\n",
    "from torch.autograd import Variable\n",
    "from torch.optim import SGD"
   ]
  },
  {
   "cell_type": "code",
   "execution_count": 2,
   "metadata": {},
   "outputs": [],
   "source": [
    "def f(x):\n",
    "    return x ** 2 + 3\n",
    "\n",
    "def df(x):\n",
    "    return 2 * x"
   ]
  },
  {
   "cell_type": "code",
   "execution_count": 3,
   "metadata": {},
   "outputs": [
    {
     "name": "stdout",
     "output_type": "stream",
     "text": [
      "optimal point: [  2.20697502e-40], optimal value: [ 3.].\n"
     ]
    }
   ],
   "source": [
    "x = Variable(torch.randn([1]))\n",
    "num_steps = 100\n",
    "step_size = 0.3\n",
    "\n",
    "for _ in range(num_steps):\n",
    "    grad = df(x)\n",
    "    x.data -= step_size * grad.data\n",
    "\n",
    "print('optimal point: {}, optimal value: {}.'.format(x.data.numpy(), f(x).data.numpy()))"
   ]
  },
  {
   "cell_type": "code",
   "execution_count": 4,
   "metadata": {},
   "outputs": [
    {
     "name": "stdout",
     "output_type": "stream",
     "text": [
      "optimal point: [ -1.77992931e-41], optimal value: [ 3.].\n"
     ]
    }
   ],
   "source": [
    "x = Variable(torch.randn([1]), requires_grad=True)\n",
    "num_steps = 100\n",
    "step_size = 0.3\n",
    "\n",
    "for _ in range(num_steps):\n",
    "    y = f(x)\n",
    "    y.backward()\n",
    "    \n",
    "    x.data -= step_size * x.grad.data\n",
    "    x.grad.data.zero_()\n",
    "    \n",
    "print('optimal point: {}, optimal value: {}.'.format(x.data.numpy(), f(x).data.numpy()))"
   ]
  },
  {
   "cell_type": "code",
   "execution_count": 5,
   "metadata": {},
   "outputs": [
    {
     "name": "stdout",
     "output_type": "stream",
     "text": [
      "optimal point: [  4.58294663e-41], optimal value: [ 3.].\n"
     ]
    }
   ],
   "source": [
    "x = Variable(torch.randn([1]), requires_grad=True)\n",
    "num_steps = 100\n",
    "step_size = 0.3\n",
    "\n",
    "optimizer = SGD([x], lr=step_size)\n",
    "\n",
    "for _ in range(num_steps):\n",
    "    y = f(x)\n",
    "    optimizer.zero_grad()\n",
    "    y.backward()\n",
    "    optimizer.step()\n",
    "    \n",
    "print('optimal point: {}, optimal value: {}.'.format(x.data.numpy(), f(x).data.numpy()))"
   ]
  },
  {
   "cell_type": "code",
   "execution_count": null,
   "metadata": {},
   "outputs": [],
   "source": []
  }
 ],
 "metadata": {
  "kernelspec": {
   "display_name": "Python 3",
   "language": "python",
   "name": "python3"
  },
  "language_info": {
   "codemirror_mode": {
    "name": "ipython",
    "version": 3
   },
   "file_extension": ".py",
   "mimetype": "text/x-python",
   "name": "python",
   "nbconvert_exporter": "python",
   "pygments_lexer": "ipython3",
   "version": "3.5.2"
  }
 },
 "nbformat": 4,
 "nbformat_minor": 2
}
