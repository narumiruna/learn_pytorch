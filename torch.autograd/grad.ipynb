{
 "cells": [
  {
   "cell_type": "code",
   "execution_count": 1,
   "metadata": {},
   "outputs": [],
   "source": [
    "import torch\n",
    "from torch.autograd import Variable, grad"
   ]
  },
  {
   "cell_type": "markdown",
   "metadata": {},
   "source": [
    "$\\frac{d}{dx} x^2 \\mid_{x=1} = 2$"
   ]
  },
  {
   "cell_type": "code",
   "execution_count": 2,
   "metadata": {},
   "outputs": [
    {
     "data": {
      "text/plain": [
       "(Variable containing:\n",
       "  2\n",
       " [torch.FloatTensor of size 1],)"
      ]
     },
     "execution_count": 2,
     "metadata": {},
     "output_type": "execute_result"
    }
   ],
   "source": [
    "x = Variable(torch.FloatTensor([1]), requires_grad=True)\n",
    "y = x ** 2\n",
    "\n",
    "grad(y, x)"
   ]
  },
  {
   "cell_type": "markdown",
   "metadata": {},
   "source": [
    "$\\frac{1}{dx} (x^2 + y^2) \\mid_{x=1} = 2$"
   ]
  },
  {
   "cell_type": "code",
   "execution_count": 3,
   "metadata": {},
   "outputs": [
    {
     "data": {
      "text/plain": [
       "(Variable containing:\n",
       "  2\n",
       " [torch.FloatTensor of size 1],)"
      ]
     },
     "execution_count": 3,
     "metadata": {},
     "output_type": "execute_result"
    }
   ],
   "source": [
    "x = Variable(torch.FloatTensor([1]), requires_grad=True)\n",
    "y = Variable(torch.FloatTensor([2]), requires_grad=True)\n",
    "\n",
    "z = x ** 2 + y ** 2\n",
    "\n",
    "grad(z, x)"
   ]
  },
  {
   "cell_type": "markdown",
   "metadata": {},
   "source": [
    "$\\frac{1}{dy} (x^2 + y^2) \\mid_{y=1} = 4$"
   ]
  },
  {
   "cell_type": "code",
   "execution_count": 4,
   "metadata": {},
   "outputs": [
    {
     "data": {
      "text/plain": [
       "(Variable containing:\n",
       "  4\n",
       " [torch.FloatTensor of size 1],)"
      ]
     },
     "execution_count": 4,
     "metadata": {},
     "output_type": "execute_result"
    }
   ],
   "source": [
    "x = Variable(torch.FloatTensor([1]), requires_grad=True)\n",
    "y = Variable(torch.FloatTensor([2]), requires_grad=True)\n",
    "\n",
    "z = x ** 2 + y ** 2\n",
    "grad(z, y)"
   ]
  },
  {
   "cell_type": "markdown",
   "metadata": {},
   "source": [
    "$\\frac{1}{d[x,y]} (x^2 + y^2) \\mid_{[x,y]=[1,2]} = [2, 4]$"
   ]
  },
  {
   "cell_type": "code",
   "execution_count": 5,
   "metadata": {},
   "outputs": [
    {
     "data": {
      "text/plain": [
       "(Variable containing:\n",
       "  2\n",
       " [torch.FloatTensor of size 1], Variable containing:\n",
       "  4\n",
       " [torch.FloatTensor of size 1])"
      ]
     },
     "execution_count": 5,
     "metadata": {},
     "output_type": "execute_result"
    }
   ],
   "source": [
    "x = Variable(torch.FloatTensor([1]), requires_grad=True)\n",
    "y = Variable(torch.FloatTensor([2]), requires_grad=True)\n",
    "\n",
    "z = x ** 2 + y ** 2\n",
    "\n",
    "grad(z, [x, y])"
   ]
  },
  {
   "cell_type": "markdown",
   "metadata": {},
   "source": [
    "$x = (1, 2, 3, 4, 5)$\n",
    "\n",
    "$f(x) = x^2$\n",
    "\n",
    "$\\nabla_x f(x) = (2, 4, 6, 8, 10)$"
   ]
  },
  {
   "cell_type": "code",
   "execution_count": 6,
   "metadata": {},
   "outputs": [
    {
     "data": {
      "text/plain": [
       "(Variable containing:\n",
       "   2\n",
       "   4\n",
       "   6\n",
       "   8\n",
       "  10\n",
       " [torch.FloatTensor of size 5],)"
      ]
     },
     "execution_count": 6,
     "metadata": {},
     "output_type": "execute_result"
    }
   ],
   "source": [
    "x = Variable(torch.FloatTensor([1, 2, 3, 4, 5]), requires_grad=True)\n",
    "y = x ** 2\n",
    "\n",
    "grad(y, x, grad_outputs=torch.ones(5))"
   ]
  },
  {
   "cell_type": "code",
   "execution_count": 7,
   "metadata": {},
   "outputs": [
    {
     "data": {
      "text/plain": [
       "(Variable containing:\n",
       "  0\n",
       "  0\n",
       "  0\n",
       "  0\n",
       "  0\n",
       " [torch.FloatTensor of size 5],)"
      ]
     },
     "execution_count": 7,
     "metadata": {},
     "output_type": "execute_result"
    }
   ],
   "source": [
    "# grad_outputs = (0, 0, 0, 0, 0)\n",
    "x = Variable(torch.FloatTensor([1, 2, 3, 4, 5]), requires_grad=True)\n",
    "y = x ** 2\n",
    "\n",
    "grad(y, x, grad_outputs=torch.zeros(5))"
   ]
  },
  {
   "cell_type": "code",
   "execution_count": 8,
   "metadata": {},
   "outputs": [
    {
     "data": {
      "text/plain": [
       "(Variable containing:\n",
       "   4\n",
       "   8\n",
       "  12\n",
       "  16\n",
       "  20\n",
       " [torch.FloatTensor of size 5],)"
      ]
     },
     "execution_count": 8,
     "metadata": {},
     "output_type": "execute_result"
    }
   ],
   "source": [
    "# grad_outputs = (2, 2, 2, 2, 2)\n",
    "x = Variable(torch.FloatTensor([1, 2, 3, 4, 5]), requires_grad=True)\n",
    "y = x ** 2\n",
    "\n",
    "grad(y, x, grad_outputs=torch.ones(5)*2)"
   ]
  },
  {
   "cell_type": "markdown",
   "metadata": {},
   "source": [
    "Let $f(x,y) = x^2 y$ and $(x_0, y_0) = (1, 2)$. Compute $\\frac{\\partial}{\\partial y} \\Vert f_x(x_0, y)^2 - 1 \\Vert^2$ at $y=y_0$."
   ]
  },
  {
   "cell_type": "code",
   "execution_count": 9,
   "metadata": {},
   "outputs": [
    {
     "name": "stdout",
     "output_type": "stream",
     "text": [
      "Variable containing:\n",
      " 4\n",
      "[torch.FloatTensor of size 1]\n",
      "\n",
      "Variable containing:\n",
      " 480\n",
      "[torch.FloatTensor of size 1]\n",
      "\n"
     ]
    }
   ],
   "source": [
    "x = Variable(torch.FloatTensor([1]), requires_grad=True)\n",
    "y = Variable(torch.FloatTensor([2]), requires_grad=True)\n",
    "f = x * x * y\n",
    "f_x = grad(f, x, create_graph=True)[0]\n",
    "print(f_x)\n",
    "w = (f_x**2 - 1)**2\n",
    "w.backward()\n",
    "print(y.grad)"
   ]
  },
  {
   "cell_type": "markdown",
   "metadata": {},
   "source": [
    "另一個作法, 因為backward()會把整個graph往回推, 所以y.grad的值會在做第二次backward()時為1, 若沒有把y.grad的值清掉, 最後的y.grad會是481"
   ]
  },
  {
   "cell_type": "code",
   "execution_count": 10,
   "metadata": {},
   "outputs": [
    {
     "name": "stdout",
     "output_type": "stream",
     "text": [
      "Variable containing:\n",
      " 480\n",
      "[torch.FloatTensor of size 1]\n",
      "\n"
     ]
    }
   ],
   "source": [
    "x = Variable(torch.FloatTensor([1]), requires_grad=True)\n",
    "y = Variable(torch.FloatTensor([2]), requires_grad=True)\n",
    "f = x * x * y\n",
    "f.backward(create_graph=True)\n",
    "w = (x.grad**2 - 1)**2\n",
    "y.grad.zero_()\n",
    "w.backward()\n",
    "print(y.grad)"
   ]
  }
 ],
 "metadata": {
  "kernelspec": {
   "display_name": "Python 3",
   "language": "python",
   "name": "python3"
  },
  "language_info": {
   "codemirror_mode": {
    "name": "ipython",
    "version": 3
   },
   "file_extension": ".py",
   "mimetype": "text/x-python",
   "name": "python",
   "nbconvert_exporter": "python",
   "pygments_lexer": "ipython3",
   "version": "3.6.4"
  }
 },
 "nbformat": 4,
 "nbformat_minor": 2
}
