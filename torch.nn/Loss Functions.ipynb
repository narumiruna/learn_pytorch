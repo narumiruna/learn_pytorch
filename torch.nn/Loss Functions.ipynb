{
 "cells": [
  {
   "cell_type": "code",
   "execution_count": 1,
   "metadata": {},
   "outputs": [],
   "source": [
    "import torch\n",
    "from torch import nn\n",
    "from torch.autograd import Variable\n",
    "import torch.nn.functional as F"
   ]
  },
  {
   "cell_type": "code",
   "execution_count": 2,
   "metadata": {},
   "outputs": [
    {
     "name": "stdout",
     "output_type": "stream",
     "text": [
      "Variable containing:\n",
      " 4.5000\n",
      "[torch.FloatTensor of size 1]\n",
      "\n",
      "Variable containing:\n",
      " 18\n",
      "[torch.FloatTensor of size 1]\n",
      "\n",
      "Variable containing:\n",
      " 3  2\n",
      " 9  4\n",
      "[torch.FloatTensor of size 2x2]\n",
      "\n"
     ]
    }
   ],
   "source": [
    "# L1 Loss\n",
    "x = Variable(torch.FloatTensor([[1, 2],[3,4]]))\n",
    "y = Variable(torch.FloatTensor([[-2, 4],[-6,8]]))\n",
    "\n",
    "# Default\n",
    "print(F.l1_loss(x, y))\n",
    "\n",
    "# Without size average\n",
    "print(F.l1_loss(x, y, size_average=False))\n",
    "\n",
    "# Without reduce\n",
    "print(F.l1_loss(x, y, reduce=False))"
   ]
  },
  {
   "cell_type": "code",
   "execution_count": 3,
   "metadata": {},
   "outputs": [
    {
     "name": "stdout",
     "output_type": "stream",
     "text": [
      "Variable containing:\n",
      " 27.5000\n",
      "[torch.FloatTensor of size 1]\n",
      "\n",
      "Variable containing:\n",
      " 110\n",
      "[torch.FloatTensor of size 1]\n",
      "\n",
      "Variable containing:\n",
      "  9   4\n",
      " 81  16\n",
      "[torch.FloatTensor of size 2x2]\n",
      "\n"
     ]
    }
   ],
   "source": [
    "# Mean Square Error\n",
    "x = Variable(torch.FloatTensor([[1, 2],[3,4]]))\n",
    "y = Variable(torch.FloatTensor([[-2, 4],[-6,8]]))\n",
    "\n",
    "# Default\n",
    "print(F.mse_loss(x, y))\n",
    "\n",
    "# Without size average\n",
    "print(F.mse_loss(x, y, size_average=False))\n",
    "\n",
    "# Without reduce\n",
    "print(F.mse_loss(x, y, reduce=False))"
   ]
  },
  {
   "cell_type": "code",
   "execution_count": null,
   "metadata": {},
   "outputs": [],
   "source": []
  }
 ],
 "metadata": {
  "kernelspec": {
   "display_name": "Python 3",
   "language": "python",
   "name": "python3"
  },
  "language_info": {
   "codemirror_mode": {
    "name": "ipython",
    "version": 3
   },
   "file_extension": ".py",
   "mimetype": "text/x-python",
   "name": "python",
   "nbconvert_exporter": "python",
   "pygments_lexer": "ipython3",
   "version": "3.6.3"
  }
 },
 "nbformat": 4,
 "nbformat_minor": 2
}
