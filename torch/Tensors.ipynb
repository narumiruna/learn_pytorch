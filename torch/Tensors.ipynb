{
 "cells": [
  {
   "cell_type": "code",
   "execution_count": 1,
   "metadata": {},
   "outputs": [],
   "source": [
    "import torch\n",
    "import numpy as np"
   ]
  },
  {
   "cell_type": "code",
   "execution_count": 2,
   "metadata": {},
   "outputs": [
    {
     "name": "stdout",
     "output_type": "stream",
     "text": [
      "\n",
      " 1  1  1\n",
      " 1  1  1\n",
      "[torch.FloatTensor of size 2x3]\n",
      "\n"
     ]
    }
   ],
   "source": [
    "a = torch.ones(2, 3)\n",
    "print(a)"
   ]
  },
  {
   "cell_type": "code",
   "execution_count": 3,
   "metadata": {},
   "outputs": [
    {
     "name": "stdout",
     "output_type": "stream",
     "text": [
      "\n",
      " 0  0  0\n",
      " 0  0  0\n",
      "[torch.FloatTensor of size 2x3]\n",
      "\n"
     ]
    }
   ],
   "source": [
    "a = torch.zeros(2, 3)\n",
    "print(a)"
   ]
  },
  {
   "cell_type": "code",
   "execution_count": 4,
   "metadata": {},
   "outputs": [
    {
     "name": "stdout",
     "output_type": "stream",
     "text": [
      "\n",
      " 1  0  0\n",
      " 0  1  0\n",
      " 0  0  1\n",
      "[torch.FloatTensor of size 3x3]\n",
      "\n",
      "\n",
      " 1  0  0\n",
      " 0  1  0\n",
      "[torch.FloatTensor of size 2x3]\n",
      "\n"
     ]
    }
   ],
   "source": [
    "# identity matrix\n",
    "a = torch.eye(3)\n",
    "print(a)\n",
    "a = torch.eye(2, 3)\n",
    "print(a)"
   ]
  },
  {
   "cell_type": "code",
   "execution_count": 5,
   "metadata": {},
   "outputs": [
    {
     "name": "stdout",
     "output_type": "stream",
     "text": [
      "torch.Size([2, 3, 4])\n",
      "24\n"
     ]
    }
   ],
   "source": [
    "# size & number of elements\n",
    "a = torch.ones(2, 3, 4)\n",
    "print(a.size())\n",
    "print(a.numel())"
   ]
  },
  {
   "cell_type": "code",
   "execution_count": 6,
   "metadata": {},
   "outputs": [
    {
     "name": "stdout",
     "output_type": "stream",
     "text": [
      "[[ 1.  1.  1.  1.]\n",
      " [ 1.  1.  1.  1.]\n",
      " [ 1.  1.  1.  1.]]\n",
      "\n",
      " 1  1  1  1\n",
      " 1  1  1  1\n",
      " 1  1  1  1\n",
      "[torch.DoubleTensor of size 3x4]\n",
      "\n",
      "\n",
      " 1  0  0  0\n",
      " 0  1  0  0\n",
      " 0  0  1  0\n",
      "[torch.FloatTensor of size 3x4]\n",
      "\n",
      "\n",
      " 2  1  1  1\n",
      " 1  2  1  1\n",
      " 1  1  2  1\n",
      "[torch.FloatTensor of size 3x4]\n",
      "\n"
     ]
    }
   ],
   "source": [
    "x = np.ones([3, 4])\n",
    "print(x)\n",
    "a = torch.from_numpy(x)\n",
    "print(a)\n",
    "b = torch.eye(3, 4)\n",
    "print(b)\n",
    "c = a.float() + b\n",
    "print(c)"
   ]
  },
  {
   "cell_type": "code",
   "execution_count": 7,
   "metadata": {},
   "outputs": [
    {
     "name": "stdout",
     "output_type": "stream",
     "text": [
      "\n",
      "-5.0000\n",
      "-3.8889\n",
      "-2.7778\n",
      "-1.6667\n",
      "-0.5556\n",
      " 0.5556\n",
      " 1.6667\n",
      " 2.7778\n",
      " 3.8889\n",
      " 5.0000\n",
      "[torch.FloatTensor of size 10]\n",
      "\n"
     ]
    }
   ],
   "source": [
    "a = torch.linspace(-5, 5, steps=10)\n",
    "print(a)"
   ]
  },
  {
   "cell_type": "code",
   "execution_count": 8,
   "metadata": {},
   "outputs": [
    {
     "name": "stdout",
     "output_type": "stream",
     "text": [
      "\n",
      " 1  0\n",
      " 0  1\n",
      "[torch.FloatTensor of size 2x2]\n",
      "\n",
      "\n",
      " 0.7500  0.2500\n",
      " 0.2500  0.7500\n",
      "[torch.FloatTensor of size 2x2]\n",
      "\n",
      "\n",
      " 0.7500  0.2500\n",
      " 0.2500  0.7500\n",
      "[torch.FloatTensor of size 2x2]\n",
      "\n",
      "\n",
      " 0.7500  0.2500\n",
      " 0.2500  0.7500\n",
      "[torch.FloatTensor of size 2x2]\n",
      "\n"
     ]
    }
   ],
   "source": [
    "a = torch.eye(2, 2)\n",
    "print(a)\n",
    "b = torch.clamp(a, 0.25, 0.75)\n",
    "print(b)\n",
    "c = a.clamp(0.25, 0.75)\n",
    "print(c)\n",
    "a.clamp_(0.25, 0.75)\n",
    "print(a)"
   ]
  },
  {
   "cell_type": "code",
   "execution_count": null,
   "metadata": {},
   "outputs": [],
   "source": []
  }
 ],
 "metadata": {
  "kernelspec": {
   "display_name": "Python 3",
   "language": "python",
   "name": "python3"
  },
  "language_info": {
   "codemirror_mode": {
    "name": "ipython",
    "version": 3
   },
   "file_extension": ".py",
   "mimetype": "text/x-python",
   "name": "python",
   "nbconvert_exporter": "python",
   "pygments_lexer": "ipython3",
   "version": "3.5.2"
  }
 },
 "nbformat": 4,
 "nbformat_minor": 2
}
