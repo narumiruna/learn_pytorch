{
 "cells": [
  {
   "cell_type": "code",
   "execution_count": 37,
   "metadata": {},
   "outputs": [],
   "source": [
    "import torch\n",
    "from torch.autograd import Variable\n",
    "from torch import nn\n",
    "import torch.nn.functional as F\n",
    "\n",
    "from torchvision import datasets\n",
    "from torchvision import transforms\n",
    "\n",
    "import numpy as np\n",
    "import matplotlib.pyplot as plt\n",
    "%matplotlib inline"
   ]
  },
  {
   "cell_type": "code",
   "execution_count": 42,
   "metadata": {},
   "outputs": [],
   "source": [
    "transform = transforms.Compose([\n",
    "    transforms.ToTensor(),\n",
    "    transforms.Normalize([0], [1])\n",
    "])\n",
    "\n",
    "batch_size = 64\n",
    "\n",
    "train_dataset = datasets.MNIST('../data', train=True, transform=transform, download=True)\n",
    "train_loader = torch.utils.data.DataLoader(train_dataset, batch_size=batch_size)\n",
    "\n",
    "test_dataset = datasets.MNIST('../data', train=False, transform=transform, download=True)\n",
    "test_loader = torch.utils.data.DataLoader(test_dataset, batch_size=batch_size)"
   ]
  },
  {
   "cell_type": "code",
   "execution_count": 3,
   "metadata": {},
   "outputs": [],
   "source": [
    "class ConvNet(nn.Module):\n",
    "    def __init__(self):\n",
    "        super(ConvNet, self).__init__()\n",
    "        \n",
    "        self.conv1 = nn.Conv2d(1, 32, 5)\n",
    "        self.pool1 = nn.AvgPool2d(2)\n",
    "        self.conv2 = nn.Conv2d(32, 64, 5)\n",
    "        self.pool2 = nn.AvgPool2d(2)\n",
    "        self.fc1 = nn.Linear(1024, 512)\n",
    "        self.fc2 = nn.Linear(512, 10)\n",
    "        \n",
    "    def forward(self, x):\n",
    "        x = self.pool1(F.relu(self.conv1(x)))\n",
    "        x = self.pool2(F.relu(self.conv2(x)))\n",
    "        x = x.view(x.size(0), -1)\n",
    "        x = F.relu(self.fc1(x))\n",
    "        x = F.sigmoid(self.fc2(x))\n",
    "        return x"
   ]
  },
  {
   "cell_type": "code",
   "execution_count": 11,
   "metadata": {},
   "outputs": [
    {
     "name": "stdout",
     "output_type": "stream",
     "text": [
      "Train epoch: 0, loss: 1.4674427509307861\n",
      "Train epoch: 1, loss: 1.4644447565078735\n",
      "Train epoch: 2, loss: 1.468521237373352\n",
      "Train epoch: 3, loss: 1.461358666419983\n",
      "Train epoch: 4, loss: 1.4615541696548462\n",
      "Train epoch: 5, loss: 1.4611519575119019\n",
      "Train epoch: 6, loss: 1.4611679315567017\n",
      "Train epoch: 7, loss: 1.4624286890029907\n",
      "Train epoch: 8, loss: 1.4611566066741943\n",
      "Train epoch: 9, loss: 1.4612230062484741\n"
     ]
    }
   ],
   "source": [
    "conv_net = ConvNet()\n",
    "optimizer = torch.optim.Adam(conv_net.parameters(), lr=1e-3)\n",
    "\n",
    "losses = []\n",
    "\n",
    "def train(epoch):\n",
    "    for batch_idx, (train_x, train_y) in enumerate(train_loader):\n",
    "        train_x, train_y = Variable(train_x), Variable(train_y)\n",
    "\n",
    "        loss = F.cross_entropy(conv_net(train_x), train_y)\n",
    "        \n",
    "        optimizer.zero_grad()\n",
    "        loss.backward()\n",
    "        optimizer.step()\n",
    "    \n",
    "        losses.append(float(loss.data.numpy()))    \n",
    "\n",
    "    print('Train epoch: {}, loss: {}'.format(epoch, float(loss.data.numpy())))\n",
    "        \n",
    "\n",
    "for epoch in range(10):\n",
    "    train(epoch)"
   ]
  },
  {
   "cell_type": "code",
   "execution_count": 53,
   "metadata": {},
   "outputs": [
    {
     "data": {
      "text/plain": [
       "[<matplotlib.lines.Line2D at 0x7efe364d0ac8>]"
      ]
     },
     "execution_count": 53,
     "metadata": {},
     "output_type": "execute_result"
    },
    {
     "data": {
      "image/png": "[encoded data removed]",
      "text/plain": [
       "<matplotlib.figure.Figure at 0x7efe364d48d0>"
      ]
     },
     "metadata": {},
     "output_type": "display_data"
    }
   ],
   "source": [
    "plt.plot(losses)"
   ]
  },
  {
   "cell_type": "code",
   "execution_count": 56,
   "metadata": {},
   "outputs": [
    {
     "name": "stdout",
     "output_type": "stream",
     "text": [
      "0.9889\n"
     ]
    }
   ],
   "source": [
    "correct = 0\n",
    "for _, (test_x , test_y) in enumerate(test_loader):\n",
    "    test_x, test_y = Variable(test_x, volatile=True), Variable(test_y)\n",
    "    correct += np.sum(test_y.data.numpy() == np.argmax(conv_net(test_x).data.numpy(), axis=1))\n",
    "    \n",
    "print(correct / len(test_dataset))"
   ]
  }
 ],
 "metadata": {
  "kernelspec": {
   "display_name": "Python 3",
   "language": "python",
   "name": "python3"
  },
  "language_info": {
   "codemirror_mode": {
    "name": "ipython",
    "version": 3
   },
   "file_extension": ".py",
   "mimetype": "text/x-python",
   "name": "python",
   "nbconvert_exporter": "python",
   "pygments_lexer": "ipython3",
   "version": "3.5.2"
  }
 },
 "nbformat": 4,
 "nbformat_minor": 2
}
